{
 "cells": [
  {
   "cell_type": "markdown",
   "metadata": {},
   "source": [
    "# <center>Implementing LDA in Python</center>"
   ]
  },
  {
   "cell_type": "markdown",
   "metadata": {},
   "source": [
    "## Key Concepts in this Notebook"
   ]
  },
  {
   "cell_type": "markdown",
   "metadata": {},
   "source": []
  },
  {
   "cell_type": "markdown",
   "metadata": {},
   "source": [
    "## Introduction"
   ]
  },
  {
   "cell_type": "markdown",
   "metadata": {},
   "source": [
    " "
   ]
  },
  {
   "cell_type": "markdown",
   "metadata": {},
   "source": [
    "## Importing the Required Libraries"
   ]
  },
  {
   "cell_type": "code",
   "execution_count": 1,
   "metadata": {},
   "outputs": [],
   "source": [
    "import numpy as np\n",
    "\n",
    "\n",
    "#Gensim\n",
    "import gensim\n",
    "import gensim.corpora as corpora\n",
    "from gensim.utils import simple_preprocess\n",
    "from gensim.models import CoherenceModel\n",
    "\n",
    "#spacy\n",
    "import spacy\n",
    "from nltk.corpus import stopwords\n",
    "\n",
    "#vis\n",
    "import pyLDAvis\n",
    "import pyLDAvis.gensim\n",
    "\n",
    "import warnings\n",
    "warnings.filterwarnings(\"ignore\", category=DeprecationWarning)"
   ]
  },
  {
   "cell_type": "markdown",
   "metadata": {},
   "source": [
    "## Preparing the Data"
   ]
  },
  {
   "cell_type": "code",
   "execution_count": 2,
   "metadata": {},
   "outputs": [],
   "source": [
    "import os\n",
    "\n",
    "def load_data(folder_path):\n",
    "    texts = []\n",
    "    # Walk through all files in the folder\n",
    "    for filename in os.listdir(folder_path):\n",
    "        if filename.endswith('.txt'):  # Only process .txt files\n",
    "            file_path = os.path.join(folder_path, filename)\n",
    "            with open(file_path, 'r', encoding='utf-8') as f:\n",
    "                text = f.read()\n",
    "                texts.append(text)\n",
    "    return texts\n"
   ]
  },
  {
   "cell_type": "code",
   "execution_count": 3,
   "metadata": {},
   "outputs": [
    {
     "name": "stdout",
     "output_type": "stream",
     "text": [
      "['i', 'me', 'my', 'myself', 'we', 'our', 'ours', 'ourselves', 'you', \"you're\", \"you've\", \"you'll\", \"you'd\", 'your', 'yours', 'yourself', 'yourselves', 'he', 'him', 'his', 'himself', 'she', \"she's\", 'her', 'hers', 'herself', 'it', \"it's\", 'its', 'itself', 'they', 'them', 'their', 'theirs', 'themselves', 'what', 'which', 'who', 'whom', 'this', 'that', \"that'll\", 'these', 'those', 'am', 'is', 'are', 'was', 'were', 'be', 'been', 'being', 'have', 'has', 'had', 'having', 'do', 'does', 'did', 'doing', 'a', 'an', 'the', 'and', 'but', 'if', 'or', 'because', 'as', 'until', 'while', 'of', 'at', 'by', 'for', 'with', 'about', 'against', 'between', 'into', 'through', 'during', 'before', 'after', 'above', 'below', 'to', 'from', 'up', 'down', 'in', 'out', 'on', 'off', 'over', 'under', 'again', 'further', 'then', 'once', 'here', 'there', 'when', 'where', 'why', 'how', 'all', 'any', 'both', 'each', 'few', 'more', 'most', 'other', 'some', 'such', 'no', 'nor', 'not', 'only', 'own', 'same', 'so', 'than', 'too', 'very', 's', 't', 'can', 'will', 'just', 'don', \"don't\", 'should', \"should've\", 'now', 'd', 'll', 'm', 'o', 're', 've', 'y', 'ain', 'aren', \"aren't\", 'couldn', \"couldn't\", 'didn', \"didn't\", 'doesn', \"doesn't\", 'hadn', \"hadn't\", 'hasn', \"hasn't\", 'haven', \"haven't\", 'isn', \"isn't\", 'ma', 'mightn', \"mightn't\", 'mustn', \"mustn't\", 'needn', \"needn't\", 'shan', \"shan't\", 'shouldn', \"shouldn't\", 'wasn', \"wasn't\", 'weren', \"weren't\", 'won', \"won't\", 'wouldn', \"wouldn't\"]\n",
      "['i', 'me', 'my', 'myself', 'we', 'our', 'ours', 'ourselves', 'you', \"you're\", \"you've\", \"you'll\", \"you'd\", 'your', 'yours', 'yourself', 'yourselves', 'he', 'him', 'his', 'himself', 'she', \"she's\", 'her', 'hers', 'herself', 'it', \"it's\", 'its', 'itself', 'they', 'them', 'their', 'theirs', 'themselves', 'what', 'which', 'who', 'whom', 'this', 'that', \"that'll\", 'these', 'those', 'am', 'is', 'are', 'was', 'were', 'be', 'been', 'being', 'have', 'has', 'had', 'having', 'do', 'does', 'did', 'doing', 'a', 'an', 'the', 'and', 'but', 'if', 'or', 'because', 'as', 'until', 'while', 'of', 'at', 'by', 'for', 'with', 'about', 'against', 'between', 'into', 'through', 'during', 'before', 'after', 'above', 'below', 'to', 'from', 'up', 'down', 'in', 'out', 'on', 'off', 'over', 'under', 'again', 'further', 'then', 'once', 'here', 'there', 'when', 'where', 'why', 'how', 'all', 'any', 'both', 'each', 'few', 'more', 'most', 'other', 'some', 'such', 'no', 'nor', 'not', 'only', 'own', 'same', 'so', 'than', 'too', 'very', 's', 't', 'can', 'will', 'just', 'don', \"don't\", 'should', \"should've\", 'now', 'd', 'll', 'm', 'o', 're', 've', 'y', 'ain', 'aren', \"aren't\", 'couldn', \"couldn't\", 'didn', \"didn't\", 'doesn', \"doesn't\", 'hadn', \"hadn't\", 'hasn', \"hasn't\", 'haven', \"haven't\", 'isn', \"isn't\", 'ma', 'mightn', \"mightn't\", 'mustn', \"mustn't\", 'needn', \"needn't\", 'shan', \"shan't\", 'shouldn', \"shouldn't\", 'wasn', \"wasn't\", 'weren', \"weren't\", 'won', \"won't\", 'wouldn', \"wouldn't\", 'et', 'al', 'figure', 'paper', 'type', 'table']\n"
     ]
    }
   ],
   "source": [
    "stopwords = stopwords.words(\"english\")\n",
    "print(stopwords)\n",
    "stopwords.extend(['et', 'al','figure', 'paper', 'type', 'table'])\n",
    "print(stopwords)"
   ]
  },
  {
   "cell_type": "code",
   "execution_count": 4,
   "metadata": {},
   "outputs": [
    {
     "name": "stdout",
     "output_type": "stream",
     "text": [
      "['i', 'me', 'my', 'myself', 'we', 'our', 'ours', 'ourselves', 'you', \"you're\", \"you've\", \"you'll\", \"you'd\", 'your', 'yours', 'yourself', 'yourselves', 'he', 'him', 'his', 'himself', 'she', \"she's\", 'her', 'hers', 'herself', 'it', \"it's\", 'its', 'itself', 'they', 'them', 'their', 'theirs', 'themselves', 'what', 'which', 'who', 'whom', 'this', 'that', \"that'll\", 'these', 'those', 'am', 'is', 'are', 'was', 'were', 'be', 'been', 'being', 'have', 'has', 'had', 'having', 'do', 'does', 'did', 'doing', 'a', 'an', 'the', 'and', 'but', 'if', 'or', 'because', 'as', 'until', 'while', 'of', 'at', 'by', 'for', 'with', 'about', 'against', 'between', 'into', 'through', 'during', 'before', 'after', 'above', 'below', 'to', 'from', 'up', 'down', 'in', 'out', 'on', 'off', 'over', 'under', 'again', 'further', 'then', 'once', 'here', 'there', 'when', 'where', 'why', 'how', 'all', 'any', 'both', 'each', 'few', 'more', 'most', 'other', 'some', 'such', 'no', 'nor', 'not', 'only', 'own', 'same', 'so', 'than', 'too', 'very', 's', 't', 'can', 'will', 'just', 'don', \"don't\", 'should', \"should've\", 'now', 'd', 'll', 'm', 'o', 're', 've', 'y', 'ain', 'aren', \"aren't\", 'couldn', \"couldn't\", 'didn', \"didn't\", 'doesn', \"doesn't\", 'hadn', \"hadn't\", 'hasn', \"hasn't\", 'haven', \"haven't\", 'isn', \"isn't\", 'ma', 'mightn', \"mightn't\", 'mustn', \"mustn't\", 'needn', \"needn't\", 'shan', \"shan't\", 'shouldn', \"shouldn't\", 'wasn', \"wasn't\", 'weren', \"weren't\", 'won', \"won't\", 'wouldn', \"wouldn't\", 'et', 'al', 'figure', 'paper', 'type', 'table']\n"
     ]
    }
   ],
   "source": [
    "print (stopwords)"
   ]
  },
  {
   "cell_type": "code",
   "execution_count": 5,
   "metadata": {},
   "outputs": [
    {
     "name": "stdout",
     "output_type": "stream",
     "text": [
      "A Structural equation modeling analysis of generative AI chatbots adoption among students \n"
     ]
    }
   ],
   "source": [
    "#data = load_data(\"data/ushmm_dn.json\")[\"texts\"]\n",
    "\n",
    "#print (data[0][0:90])\n",
    "\n",
    "# Use your folder path\n",
    "folder_path = \"data\"\n",
    "data = load_data(folder_path)\n",
    "\n",
    "# Print first 90 characters of first text to verify\n",
    "if data:\n",
    "    print(data[0][0:90])"
   ]
  },
  {
   "cell_type": "code",
   "execution_count": 6,
   "metadata": {},
   "outputs": [
    {
     "name": "stdout",
     "output_type": "stream",
     "text": [
      "A Structural equation modeling analysis of generative AI chatbots adoption among students and educators in higher education\n",
      "\n",
      "Abstract\n",
      "In an era where \n",
      "structural equation model analysis generative AI chatbot adoption student educator high education Abstract era artificial intelligence AI reshape educ\n"
     ]
    }
   ],
   "source": [
    "print(data[0][0:150])\n",
    "\n",
    "\n",
    "def lemmatization(texts, allowed_postags=[\"NOUN\", \"ADJ\", \"VERB\", \"ADV\", \"PROPN\"]):  # Added PROPN\n",
    "    nlp = spacy.load(\"en_core_web_sm\", disable=[\"parser\", \"ner\"])\n",
    "    texts_out = []\n",
    "    for text in texts:\n",
    "        doc = nlp(text)\n",
    "        new_text = []\n",
    "        for token in doc:\n",
    "            if token.pos_ in allowed_postags:\n",
    "                new_text.append(token.lemma_)\n",
    "        final = \" \".join(new_text)\n",
    "        texts_out.append(final)\n",
    "    return (texts_out)\n",
    "\n",
    "\n",
    "lemmatized_texts = lemmatization(data)\n",
    "print (lemmatized_texts[0][0:150])\n"
   ]
  },
  {
   "cell_type": "code",
   "execution_count": 7,
   "metadata": {},
   "outputs": [
    {
     "name": "stdout",
     "output_type": "stream",
     "text": [
      "['structural', 'equation', 'model', 'analysis', 'generative', 'ai', 'chatbot', 'adoption', 'student', 'educator', 'high', 'education', 'abstract', 'era', 'artificial', 'intelligence', 'ai', 'reshape', 'educational', 'paradigm']\n"
     ]
    }
   ],
   "source": [
    "def gen_words(texts):\n",
    "    final = []\n",
    "    for text in texts:\n",
    "        new = gensim.utils.simple_preprocess(text, deacc=True)\n",
    "        final.append(new)\n",
    "    return (final)\n",
    "\n",
    "data_words = gen_words(lemmatized_texts)\n",
    "\n",
    "print (data_words[0][0:20])"
   ]
  },
  {
   "cell_type": "code",
   "execution_count": 8,
   "metadata": {},
   "outputs": [
    {
     "name": "stdout",
     "output_type": "stream",
     "text": [
      "['structural_equation', 'model', 'analysis', 'generative', 'ai', 'chatbot', 'adoption', 'student', 'educator', 'high', 'education', 'abstract', 'era', 'artificial_intelligence_ai', 'reshape', 'educational', 'paradigm', 'study', 'explore', 'ai']\n"
     ]
    }
   ],
   "source": [
    "def remove_stopwords(texts):\n",
    "    return [[word for word in simple_preprocess(str(doc)) if word not in stopwords] for doc in texts]\n",
    "\n",
    "\n",
    "data_words_nostops = remove_stopwords(data_words)\n",
    "\n",
    "#BIGRAMS AND TRIGRAMS\n",
    "bigram_phrases = gensim.models.Phrases(data_words_nostops, min_count=5, threshold=100)\n",
    "trigram_phrases = gensim.models.Phrases(bigram_phrases[data_words_nostops], threshold=100)\n",
    "\n",
    "bigram = gensim.models.phrases.Phraser(bigram_phrases)\n",
    "trigram = gensim.models.phrases.Phraser(trigram_phrases)\n",
    "\n",
    "def make_bigrams(texts):\n",
    "    return([bigram[doc] for doc in texts])\n",
    "\n",
    "def make_trigrams(texts):\n",
    "    return ([trigram[bigram[doc]] for doc in texts])\n",
    "\n",
    "data_bigrams = make_bigrams(data_words_nostops)\n",
    "data_bigrams_trigrams = make_trigrams(data_bigrams)\n",
    "\n",
    "print (data_bigrams_trigrams[0][0:20])"
   ]
  },
  {
   "cell_type": "code",
   "execution_count": 9,
   "metadata": {},
   "outputs": [],
   "source": [
    "#TF-IDF REMOVAL\n",
    "from gensim.models import TfidfModel\n",
    "\n",
    "id2word = corpora.Dictionary(data_bigrams_trigrams)\n",
    "\n",
    "texts = data_bigrams_trigrams\n",
    "\n",
    "corpus = [id2word.doc2bow(text) for text in texts]\n",
    "# print (corpus[0][0:20])\n",
    "\n",
    "tfidf = TfidfModel(corpus, id2word=id2word)\n",
    "\n",
    "low_value = 0.03\n",
    "words  = []\n",
    "words_missing_in_tfidf = []\n",
    "for i in range(0, len(corpus)):\n",
    "    bow = corpus[i]\n",
    "    low_value_words = [] #reinitialize to be safe. You can skip this.\n",
    "    tfidf_ids = [id for id, value in tfidf[bow]]\n",
    "    bow_ids = [id for id, value in bow]\n",
    "    low_value_words = [id for id, value in tfidf[bow] if value < low_value]\n",
    "    drops = low_value_words+words_missing_in_tfidf\n",
    "    for item in drops:\n",
    "        words.append(id2word[item])\n",
    "    words_missing_in_tfidf = [id for id in bow_ids if id not in tfidf_ids] # The words with tf-idf socre 0 will be missing\n",
    "\n",
    "    new_bow = [b for b in bow if b[0] not in low_value_words and b[0] not in words_missing_in_tfidf]\n",
    "    corpus[i] = new_bow\n"
   ]
  },
  {
   "cell_type": "code",
   "execution_count": 10,
   "metadata": {},
   "outputs": [],
   "source": [
    "# id2word = corpora.Dictionary(all_texts)\n",
    "\n",
    "# corpus = []\n",
    "# for text in data_words:\n",
    "#     new = id2word.doc2bow(text)\n",
    "#     corpus.append(new)\n",
    "\n",
    "# print (corpus[0][0:20])\n",
    "\n",
    "# word = id2word[[0][:1][0]]\n",
    "# print (word)"
   ]
  },
  {
   "cell_type": "code",
   "execution_count": 10,
   "metadata": {},
   "outputs": [],
   "source": [
    "lda_model = gensim.models.ldamodel.LdaModel(corpus=corpus[:-1],\n",
    "                                           id2word=id2word,\n",
    "                                           num_topics=5,\n",
    "                                           random_state=100,\n",
    "                                           update_every=1,\n",
    "                                           chunksize=100,\n",
    "                                           passes=10,\n",
    "                                           alpha=\"auto\")\n"
   ]
  },
  {
   "cell_type": "code",
   "execution_count": 11,
   "metadata": {},
   "outputs": [
    {
     "name": "stdout",
     "output_type": "stream",
     "text": [
      "[(0, 0.24791238), (1, 0.37759846), (2, 0.054194264), (3, 0.18293273), (4, 0.13736215)]\n",
      "[(1, 0.37759846), (0, 0.24791238), (3, 0.18293273), (4, 0.13736215), (2, 0.054194264)]\n"
     ]
    }
   ],
   "source": [
    "test_doc = corpus[-1]\n",
    "\n",
    "vector = lda_model[test_doc]\n",
    "print (vector)\n",
    "\n",
    "def Sort(sub_li):\n",
    "    sub_li.sort(key = lambda x: x[1])\n",
    "    sub_li.reverse()\n",
    "    return (sub_li)\n",
    "new_vector = Sort(vector)\n",
    "print (new_vector)"
   ]
  },
  {
   "cell_type": "code",
   "execution_count": 12,
   "metadata": {},
   "outputs": [],
   "source": [
    "lda_model.save(\"models/test_model.model\")"
   ]
  },
  {
   "cell_type": "code",
   "execution_count": 13,
   "metadata": {},
   "outputs": [],
   "source": [
    "new_model = gensim.models.ldamodel.LdaModel.load(\"models/test_model.model\")"
   ]
  },
  {
   "cell_type": "code",
   "execution_count": 14,
   "metadata": {},
   "outputs": [
    {
     "name": "stdout",
     "output_type": "stream",
     "text": [
      "[(0, 0.24791157), (1, 0.3775987), (2, 0.054194145), (3, 0.18293227), (4, 0.13736336)]\n",
      "[(1, 0.3775987), (0, 0.24791157), (3, 0.18293227), (4, 0.13736336), (2, 0.054194145)]\n"
     ]
    }
   ],
   "source": [
    "test_doc = corpus[-1]\n",
    "\n",
    "vector = new_model[test_doc]\n",
    "print (vector)\n",
    "\n",
    "def Sort(sub_li):\n",
    "    sub_li.sort(key = lambda x: x[1])\n",
    "    sub_li.reverse()\n",
    "    return (sub_li)\n",
    "new_vector = Sort(vector)\n",
    "print (new_vector)"
   ]
  },
  {
   "cell_type": "markdown",
   "metadata": {},
   "source": [
    "## Vizualizing the Data"
   ]
  },
  {
   "cell_type": "code",
   "execution_count": 15,
   "metadata": {},
   "outputs": [
    {
     "data": {
      "text/html": [
       "\n",
       "<link rel=\"stylesheet\" type=\"text/css\" href=\"https://cdn.jsdelivr.net/gh/bmabey/pyLDAvis@3.4.0/pyLDAvis/js/ldavis.v1.0.0.css\">\n",
       "\n",
       "\n",
       "<div id=\"ldavis_el1382015253258785922236960203\" style=\"background-color:white;\"></div>\n",
       "<script type=\"text/javascript\">\n",
       "\n",
       "var ldavis_el1382015253258785922236960203_data = {\"mdsDat\": {\"x\": [0.16389221034078816, -0.01098521291831328, -0.23362894842812648, -0.11849182035042166, 0.19921377135607324], \"y\": [0.1940327279737295, -0.22639451534895305, -0.07677152871331605, 0.19645937360462895, -0.08732605751608931], \"topics\": [1, 2, 3, 4, 5], \"cluster\": [1, 1, 1, 1, 1], \"Freq\": [26.602859896514275, 23.472097242110486, 18.68411855535123, 18.264870113870458, 12.976054192153539]}, \"tinfo\": {\"Term\": [\"genai\", \"assessment\", \"teacher\", \"gai\", \"design\", \"chatbot\", \"explanation\", \"pupil\", \"id\", \"citation\", \"subject\", \"task\", \"chatgpt\", \"university\", \"generative_artificial_intelligence\", \"concept\", \"case\", \"user\", \"owlmentor\", \"ipe\", \"factor\", \"evaluation\", \"writing\", \"human\", \"variable\", \"system\", \"respondent\", \"prompt\", \"educator\", \"effect\", \"pupil\", \"subject\", \"case\", \"evaluation\", \"response\", \"guideline\", \"institution\", \"submission\", \"platform\", \"grade\", \"strategy\", \"correct\", \"skill\", \"thinking\", \"online_quiz\", \"recommendation\", \"laboratory\", \"entrepreneurial\", \"outline\", \"log_sheet\", \"th_grade_pupil\", \"benchmark\", \"undertake\", \"final_grade\", \"numerical\", \"gemini\", \"pass_grade\", \"cultivate\", \"legal\", \"discipline\", \"software\", \"assessment\", \"detection\", \"criterion\", \"pass\", \"output\", \"engineering\", \"system\", \"performance\", \"project\", \"citation\", \"university\", \"integrity\", \"generative_artificial_intelligence\", \"gen\", \"write\", \"chatgpt\", \"prompt\", \"resource\", \"policy\", \"genai\", \"instructor\", \"gpt\", \"satisfaction\", \"school\", \"design\", \"subreddit\", \"ilte\", \"tpack\", \"digital\", \"soft_skill\", \"program\", \"fashion_textile_design\", \"educational\", \"relate_subreddit\", \"artistic\", \"pck\", \"objective\", \"big\", \"iran\", \"personalize\", \"fashion\", \"reaction\", \"analyze\", \"test\", \"cultural_dimension\", \"analysis\", \"phase\", \"volume\", \"problem_solve\", \"integrate\", \"reddit\", \"podcast\", \"textile\", \"important\", \"self_confidence\", \"creative\", \"post\", \"matrix\", \"english_language\", \"teacher\", \"lesson_plan\", \"critical_thinking\", \"genai\", \"participant\", \"art\", \"image\", \"survey\", \"school\", \"chatgpt\", \"citation\", \"instructional\", \"generative_artificial_intelligence\", \"educator\", \"perception\", \"prompt\", \"gai\", \"respondent\", \"gen\", \"activity\", \"explanation\", \"owlmentor\", \"concept\", \"human\", \"iteration\", \"actual_system\", \"move\", \"multimedia\", \"perceived_ease\", \"source\", \"comprehension\", \"tp\", \"structure\", \"many\", \"distinguish\", \"elementary\", \"sequence_selection_iteration\", \"network\", \"gpa\", \"perceive_helpfulness\", \"google\", \"even\", \"computer\", \"email_interview\", \"correlation_self_efficacy\", \"perceived_usefulness_intention\", \"sound\", \"caution\", \"social_constructivist\", \"predict_actual\", \"error\", \"steam\", \"gai\", \"scientific\", \"writing\", \"self_efficacy\", \"perceived_usefulness\", \"english\", \"activity\", \"literacy\", \"academic\", \"theory\", \"struggle\", \"intention\", \"session\", \"lecturer\", \"principle\", \"cluster\", \"gpt\", \"teacher\", \"educator\", \"course\", \"group\", \"correlation\", \"participant\", \"perception\", \"university\", \"task\", \"factor\", \"perceive_behavioural_control\", \"interaction\", \"tpb\", \"oman\", \"sub_category\", \"risk\", \"ref\", \"measure\", \"subjective_norm\", \"measurement\", \"moderate_effect\", \"effort\", \"clinical\", \"attitude_subjective_norm\", \"completion\", \"pls_sem\", \"hoc\", \"history\", \"chatbot\", \"dv_psepq\", \"enjoyment\", \"perform\", \"historian\", \"online_blended\", \"compare\", \"trust_privacy\", \"landscape_architecture\", \"discriminant_validity\", \"id\", \"medical\", \"sdg\", \"indicator\", \"voice\", \"variable\", \"user\", \"behaviour\", \"genai\", \"adoption\", \"attitude\", \"motivation\", \"perceive\", \"bard\", \"perception\", \"chatgpt\", \"distance\", \"faculty\", \"course\", \"lecturer\", \"construct\", \"participant\", \"gpt\", \"image\", \"acceptance\", \"theory\", \"instructional\", \"fig\", \"satisfaction\", \"assessment\", \"survey\", \"ipe\", \"belief\", \"integration\", \"confidence\", \"sr\", \"interviewee\", \"text\", \"positive\", \"ask\", \"machine\", \"gender\", \"responsible_innovation\", \"enhancement\", \"readiness\", \"hcai\", \"guidance\", \"grammar\", \"tri\", \"majority\", \"degree\", \"interested\", \"qualification\", \"common\", \"know\", \"responsible\", \"transmissive\", \"higher\", \"purpose\", \"label\", \"ratio\", \"people\", \"management\", \"feel\", \"programming\", \"creativity\", \"effect\", \"respondent\", \"learner\", \"frequency\", \"think\", \"survey\", \"acceptance\", \"correlation\", \"usage\", \"aied\", \"educator\", \"motivation\", \"academic\", \"chatgpt\", \"ethical\", \"gai\", \"university\", \"variable\", \"critical_thinking\", \"participant\", \"teacher\"], \"Freq\": [1386.0, 604.0, 787.0, 528.0, 275.0, 206.0, 142.0, 167.0, 150.0, 289.0, 152.0, 114.0, 783.0, 308.0, 239.0, 96.0, 121.0, 147.0, 89.0, 73.0, 87.0, 107.0, 145.0, 81.0, 125.0, 158.0, 123.0, 176.0, 180.0, 117.0, 166.30536834187475, 151.2233746009055, 120.5769500068932, 106.68357118751095, 81.33970589861694, 58.74352270614299, 49.13472038498615, 50.75595449479623, 51.60589070469789, 48.14684770966333, 38.662939755305224, 41.1880292687903, 37.720440203586335, 36.79994467315694, 34.221547690949436, 30.798629621581604, 34.20116187829216, 29.008236961362627, 28.995912057627482, 27.283157250668232, 25.533102282722766, 24.67310274372, 26.336475066581524, 24.61814994555029, 22.00498558514126, 20.288679458120427, 21.122005675506657, 21.105199810437973, 99.61563365393539, 19.38782994478181, 20.219232091010365, 564.0460794512344, 72.68057206462787, 42.968562006021166, 68.20486614236692, 100.54981916912487, 112.73380314919206, 126.95611526737957, 85.7345556308971, 72.56131882736268, 208.26666930322543, 219.56758749107698, 67.37522232898176, 165.10091486428973, 133.95981865718537, 77.83405126275714, 368.8699405192904, 117.5182162690675, 82.5449067053282, 87.69818701748034, 334.4840979441004, 73.63075886070577, 93.04011369237759, 61.27385859063122, 58.90782663065524, 274.7056266418429, 59.291526581232795, 41.558651408324835, 44.86743928612182, 40.69010230088986, 41.51543545958054, 38.998676755364656, 38.98950659372942, 43.92004912244749, 31.412360764211464, 37.95747921482331, 29.70232104019734, 32.173244888968235, 32.985744075431235, 27.213492909474677, 31.32658558748944, 28.013474519544904, 26.357482648740703, 30.45635612570437, 27.108122461296677, 24.642622541124183, 73.01276844637837, 25.420833990722013, 21.28985564227518, 19.583389330043534, 21.201989328375394, 18.74441392741247, 82.96107772028464, 18.734739925351064, 19.53366466698116, 19.529789482700686, 63.36757169988967, 45.75933521562667, 55.752221738003875, 86.23080267701904, 530.6702399468014, 37.167199524094045, 83.47718047915339, 513.335023821389, 215.64389383556227, 41.40063162970297, 99.20992880563142, 88.21328048519594, 69.88890994590149, 164.6543706240413, 80.11096276913807, 54.18575925332412, 72.73791884102013, 59.8456393809068, 67.13296928443887, 58.36751248630214, 77.31818193382281, 50.08839596824472, 51.03901390119281, 44.79321654555669, 141.1228434819517, 88.97340217552208, 95.14396403917827, 80.6305843231557, 50.88554140974272, 38.90892669708342, 39.60283310369703, 25.983038894117808, 24.37740703421951, 25.924542803726023, 22.772321214023115, 21.96448298867617, 20.290884000920787, 21.059623243891462, 18.66380209304243, 17.076884791532258, 17.065447587853498, 17.061611553125935, 15.49605964227769, 16.268773546334355, 16.26092581294412, 17.03794348341099, 15.462152269935462, 13.05022823896248, 12.270741749455773, 12.270449681708241, 13.023217263398054, 12.243039758532147, 11.424944240877815, 10.650289567803123, 11.40949322210343, 17.060495134743153, 375.962201633508, 51.42866466704295, 106.67041346270507, 56.78533530710622, 34.875043584195154, 53.49284289056818, 78.30042550467779, 79.16953446401808, 64.6421735919071, 65.41529385109077, 37.21088290871929, 59.92018733156272, 43.63786755611181, 83.18423846148501, 48.493718200742165, 42.89455090577423, 92.75467208398968, 174.13505780805136, 72.48417991457237, 57.49110220398922, 56.17686083307898, 44.62691053804054, 58.876447256393085, 48.57415535155914, 49.69783733223471, 113.56436260149619, 86.78169913605647, 30.238385560023513, 38.198796174234154, 28.62300465826024, 28.54267588420486, 29.313824666942317, 24.554761696140126, 22.11205400715978, 25.25391747545706, 19.67162008634218, 21.223774095427036, 19.606042874616556, 19.594353347665212, 24.24444716890982, 16.423451232372248, 17.98669167157547, 17.19674757776023, 17.964858117961747, 16.393817764314885, 197.73947515648575, 15.566236497130555, 15.557862451053463, 17.893818897182747, 14.75532884015877, 13.974087754329519, 16.288018235162518, 14.729662569964981, 14.720024399822886, 13.145193742923837, 135.04225666813133, 42.91320101419657, 29.358991757716616, 54.4049287558668, 30.963754844910987, 89.34418413190305, 99.7000043332118, 22.9115638581183, 537.893586803976, 64.11397674120039, 33.477867957550046, 62.59430513444051, 43.28022319526924, 39.61534753279777, 103.96753821278114, 160.21575433604878, 32.60567614521087, 50.56464812084048, 57.02711102793533, 61.188706759183155, 45.59485711666214, 87.9444781058063, 63.198494369227596, 59.13694857502634, 39.03009740061468, 39.10814619967884, 37.67625983690932, 36.689845829184335, 36.650502812457475, 39.5497041149018, 33.60591896676643, 72.16297580051729, 36.610629890486855, 31.288728131202596, 26.74218968502538, 28.21721876877579, 28.209310947834926, 28.190449765992327, 19.140129491360725, 19.132074684900513, 18.36069320951258, 18.357825522030122, 16.83639163996669, 16.097846729600864, 15.333863035401663, 13.822588792435491, 13.820194398325329, 13.064815236428698, 13.057602656994344, 13.054521840508832, 12.313850784605652, 13.038028595382912, 12.307169557823737, 12.290109683520734, 13.005027406579137, 11.557360412182758, 10.787719245343894, 10.77656745399104, 10.76767703485334, 10.020752480029545, 10.01919149381408, 10.73035814641875, 40.39314348651945, 37.32901573687425, 48.54620682670478, 34.31889046703711, 64.62132518544904, 64.60458647450581, 45.52153880958346, 25.94724202132055, 24.4710297041394, 67.68833091156304, 42.65349268245746, 41.15910560580906, 32.815061040625864, 28.2938981745087, 47.877272788446476, 37.305259937237395, 35.83720972594558, 89.70622080302341, 29.035401903378983, 46.04348438878444, 38.949722168849405, 29.101927549435405, 26.870466887469842, 33.675614221036, 31.225101039587692], \"Total\": [1386.0, 604.0, 787.0, 528.0, 275.0, 206.0, 142.0, 167.0, 150.0, 289.0, 152.0, 114.0, 783.0, 308.0, 239.0, 96.0, 121.0, 147.0, 89.0, 73.0, 87.0, 107.0, 145.0, 81.0, 125.0, 158.0, 123.0, 176.0, 180.0, 117.0, 167.20982069735257, 152.31192295863596, 121.66518137058975, 107.65995006679344, 82.26180016781653, 59.50021373051101, 49.86565163454237, 51.60654480276783, 52.48241815522433, 48.98198144076294, 39.3565791788328, 41.974646774803055, 38.47750510614861, 37.59757180952247, 34.97009208096324, 31.474711581094223, 34.96863882401313, 29.7211104206228, 29.717887811465783, 27.970001724692025, 26.21637654840102, 25.343871356347048, 27.087214753327252, 25.34045025717907, 22.712348247989777, 20.963993503373814, 21.835106574776333, 21.83558293531294, 103.08522588164371, 20.087177141220426, 20.95681686512243, 604.7678307845443, 76.74068642245516, 45.362139320912334, 73.18261055863987, 118.80734886325958, 136.78426189979294, 158.53547875949874, 102.10671156683773, 84.94261197947071, 289.55433675964366, 308.85484974321423, 81.02978333682942, 239.03926693169527, 190.43936231531055, 101.62993187810653, 783.9605006859582, 176.52897656970947, 119.77438409033948, 131.39978714448526, 1386.583552487756, 135.2038340930656, 258.09391684962424, 112.4501309590473, 143.3925503497605, 275.6420993847039, 60.0101457824432, 42.25259731731232, 45.63450552384819, 41.40927207600608, 42.25398636031481, 39.717812414716, 39.71800193376508, 44.78213091902047, 32.10577554518543, 38.8637245189139, 30.41504296792686, 32.94984072554234, 33.789055903623634, 27.879591606305265, 32.10269773062895, 28.72534499629522, 27.032926117976526, 31.25488801086638, 27.871990418047293, 25.34031287778419, 75.16583784232935, 26.185597224607868, 21.959394534139054, 20.268732751990797, 21.955623585791635, 19.422236044298057, 85.97107873880272, 19.423361725481268, 20.264728380145044, 20.26352067656987, 69.08411071619021, 50.51959974692317, 63.40660956399499, 103.23091474956105, 787.7434483989208, 42.051649522305624, 111.20910466772496, 1386.583552487756, 452.124630158586, 54.95293649836094, 226.5307037148131, 211.84817441683182, 143.3925503497605, 783.9605006859582, 289.55433675964366, 116.34647241741301, 239.03926693169527, 180.85279429297645, 263.6708383380757, 176.52897656970947, 528.7871212555267, 123.68964259253772, 190.43936231531055, 124.04768636929478, 142.30212304658937, 89.74276098104193, 96.22304911160542, 81.66910201326802, 51.75114688077145, 39.62292910583822, 40.43270427870174, 26.689414633941105, 25.071770265206013, 26.69072399158805, 23.454994520591942, 22.646617739826844, 21.031835497661568, 21.845313742818746, 19.416544286895373, 17.797579757674132, 17.798837715618546, 17.796801681591422, 16.180927087084154, 16.98963532610119, 16.988122190077984, 17.80234111436836, 16.181144156601416, 13.755576000702815, 12.945981696461507, 12.9458870564641, 13.75804697115139, 12.947182723317338, 12.13768458607524, 11.32904349390947, 12.141405147702738, 18.558668942670735, 528.7871212555267, 61.66590408271277, 145.16770979932872, 72.46871545117823, 43.71875754809228, 75.74152644368617, 124.04768636929478, 130.34275252884663, 101.35361921397228, 105.36631507907329, 50.17456027811448, 95.07173325703413, 63.92240852794086, 163.25572146996265, 81.66770838038693, 70.8097067835161, 258.09391684962424, 787.7434483989208, 180.85279429297645, 137.95255553065937, 133.9360663664107, 103.224389580599, 452.124630158586, 263.6708383380757, 308.85484974321423, 114.74844103320821, 87.90670469690184, 30.93090862554324, 39.07515356716916, 29.303524122293453, 29.30866684077538, 30.118317977956565, 25.234496263419363, 22.79329962270635, 26.050678962111526, 20.351807693999326, 21.98210656836874, 20.353777176471873, 20.35185570364938, 25.23154821087149, 17.096453735537988, 18.723894625323005, 17.91148632903405, 18.726944916773107, 17.096359654390263, 206.68795155162525, 16.28556972950908, 16.28185971291979, 18.730848031370094, 15.4690869316516, 14.655619666088946, 17.102390059293054, 15.47127254029232, 15.471080192036323, 13.842222736012655, 150.29113619513404, 46.584130056133944, 31.81124489716093, 61.453479861667184, 35.56435480692899, 125.46129755385708, 147.33194468536527, 25.895894570683865, 1386.583552487756, 96.34341158429399, 42.577115104291494, 109.32532794223846, 68.47220835276767, 60.85777098390842, 263.6708383380757, 783.9605006859582, 49.878249153336625, 110.48068358424592, 137.95255553065937, 163.25572146996265, 104.09062201958577, 452.124630158586, 258.09391684962424, 226.5307037148131, 102.81858810702292, 105.36631507907329, 116.34647241741301, 111.95378931965094, 112.4501309590473, 604.7678307845443, 211.84817441683182, 73.28910329040151, 37.43465444047374, 32.09584034722021, 27.51910450333482, 29.045507311075724, 29.04638583927354, 29.051323340924878, 19.890790806497712, 19.892288789230058, 19.130409312900582, 19.130152126685278, 17.60175579977441, 16.839638472972435, 16.077357117224384, 14.549900681369357, 14.551144533441029, 13.78871002825959, 13.789367505183453, 13.789613758689482, 13.024346434004725, 13.79093687485369, 13.024902926186371, 13.025251517231426, 13.792840048920635, 12.260593726665043, 11.499280857834917, 11.500224490037855, 11.501629754157076, 10.737336453411974, 10.736750131754363, 11.503253898662585, 48.2551767260811, 49.594114364336136, 72.42400495715839, 47.83001780437341, 117.03495814669103, 123.68964259253772, 83.3214142945168, 38.96435674594538, 36.22132898160588, 211.84817441683182, 102.81858810702292, 103.224389580599, 71.6214904169322, 55.985884656102584, 180.85279429297645, 109.32532794223846, 101.35361921397228, 783.9605006859582, 77.97559522998029, 528.7871212555267, 308.85484974321423, 125.46129755385708, 111.20910466772496, 452.124630158586, 787.7434483989208], \"Category\": [\"Default\", \"Default\", \"Default\", \"Default\", \"Default\", \"Default\", \"Default\", \"Default\", \"Default\", \"Default\", \"Default\", \"Default\", \"Default\", \"Default\", \"Default\", \"Default\", \"Default\", \"Default\", \"Default\", \"Default\", \"Default\", \"Default\", \"Default\", \"Default\", \"Default\", \"Default\", \"Default\", \"Default\", \"Default\", \"Default\", \"Topic1\", \"Topic1\", \"Topic1\", \"Topic1\", \"Topic1\", \"Topic1\", \"Topic1\", \"Topic1\", \"Topic1\", \"Topic1\", \"Topic1\", \"Topic1\", \"Topic1\", \"Topic1\", \"Topic1\", \"Topic1\", \"Topic1\", \"Topic1\", \"Topic1\", \"Topic1\", \"Topic1\", \"Topic1\", \"Topic1\", \"Topic1\", \"Topic1\", \"Topic1\", \"Topic1\", \"Topic1\", \"Topic1\", \"Topic1\", \"Topic1\", \"Topic1\", \"Topic1\", \"Topic1\", \"Topic1\", \"Topic1\", \"Topic1\", \"Topic1\", \"Topic1\", \"Topic1\", \"Topic1\", \"Topic1\", \"Topic1\", \"Topic1\", \"Topic1\", \"Topic1\", \"Topic1\", \"Topic1\", \"Topic1\", \"Topic1\", \"Topic1\", \"Topic1\", \"Topic1\", \"Topic1\", \"Topic1\", \"Topic2\", \"Topic2\", \"Topic2\", \"Topic2\", \"Topic2\", \"Topic2\", \"Topic2\", \"Topic2\", \"Topic2\", \"Topic2\", \"Topic2\", \"Topic2\", \"Topic2\", \"Topic2\", \"Topic2\", \"Topic2\", \"Topic2\", \"Topic2\", \"Topic2\", \"Topic2\", \"Topic2\", \"Topic2\", \"Topic2\", \"Topic2\", \"Topic2\", \"Topic2\", \"Topic2\", \"Topic2\", \"Topic2\", \"Topic2\", \"Topic2\", \"Topic2\", \"Topic2\", \"Topic2\", \"Topic2\", \"Topic2\", \"Topic2\", \"Topic2\", \"Topic2\", \"Topic2\", \"Topic2\", \"Topic2\", \"Topic2\", \"Topic2\", \"Topic2\", \"Topic2\", \"Topic2\", \"Topic2\", \"Topic2\", \"Topic2\", \"Topic2\", \"Topic2\", \"Topic2\", \"Topic2\", \"Topic2\", \"Topic3\", \"Topic3\", \"Topic3\", \"Topic3\", \"Topic3\", \"Topic3\", \"Topic3\", \"Topic3\", \"Topic3\", \"Topic3\", \"Topic3\", \"Topic3\", \"Topic3\", \"Topic3\", \"Topic3\", \"Topic3\", \"Topic3\", \"Topic3\", \"Topic3\", \"Topic3\", \"Topic3\", \"Topic3\", \"Topic3\", \"Topic3\", \"Topic3\", \"Topic3\", \"Topic3\", \"Topic3\", \"Topic3\", \"Topic3\", \"Topic3\", \"Topic3\", \"Topic3\", \"Topic3\", \"Topic3\", \"Topic3\", \"Topic3\", \"Topic3\", \"Topic3\", \"Topic3\", \"Topic3\", \"Topic3\", \"Topic3\", \"Topic3\", \"Topic3\", \"Topic3\", \"Topic3\", \"Topic3\", \"Topic3\", \"Topic3\", \"Topic3\", \"Topic3\", \"Topic3\", \"Topic3\", \"Topic3\", \"Topic3\", \"Topic3\", \"Topic4\", \"Topic4\", \"Topic4\", \"Topic4\", \"Topic4\", \"Topic4\", \"Topic4\", \"Topic4\", \"Topic4\", \"Topic4\", \"Topic4\", \"Topic4\", \"Topic4\", \"Topic4\", \"Topic4\", \"Topic4\", \"Topic4\", \"Topic4\", \"Topic4\", \"Topic4\", \"Topic4\", \"Topic4\", \"Topic4\", \"Topic4\", \"Topic4\", \"Topic4\", \"Topic4\", \"Topic4\", \"Topic4\", \"Topic4\", \"Topic4\", \"Topic4\", \"Topic4\", \"Topic4\", \"Topic4\", \"Topic4\", \"Topic4\", \"Topic4\", \"Topic4\", \"Topic4\", \"Topic4\", \"Topic4\", \"Topic4\", \"Topic4\", \"Topic4\", \"Topic4\", \"Topic4\", \"Topic4\", \"Topic4\", \"Topic4\", \"Topic4\", \"Topic4\", \"Topic4\", \"Topic4\", \"Topic4\", \"Topic4\", \"Topic4\", \"Topic4\", \"Topic4\", \"Topic4\", \"Topic4\", \"Topic5\", \"Topic5\", \"Topic5\", \"Topic5\", \"Topic5\", \"Topic5\", \"Topic5\", \"Topic5\", \"Topic5\", \"Topic5\", \"Topic5\", \"Topic5\", \"Topic5\", \"Topic5\", \"Topic5\", \"Topic5\", \"Topic5\", \"Topic5\", \"Topic5\", \"Topic5\", \"Topic5\", \"Topic5\", \"Topic5\", \"Topic5\", \"Topic5\", \"Topic5\", \"Topic5\", \"Topic5\", \"Topic5\", \"Topic5\", \"Topic5\", \"Topic5\", \"Topic5\", \"Topic5\", \"Topic5\", \"Topic5\", \"Topic5\", \"Topic5\", \"Topic5\", \"Topic5\", \"Topic5\", \"Topic5\", \"Topic5\", \"Topic5\", \"Topic5\", \"Topic5\", \"Topic5\", \"Topic5\", \"Topic5\", \"Topic5\", \"Topic5\", \"Topic5\", \"Topic5\", \"Topic5\", \"Topic5\", \"Topic5\"], \"logprob\": [30.0, 29.0, 28.0, 27.0, 26.0, 25.0, 24.0, 23.0, 22.0, 21.0, 20.0, 19.0, 18.0, 17.0, 16.0, 15.0, 14.0, 13.0, 12.0, 11.0, 10.0, 9.0, 8.0, 7.0, 6.0, 5.0, 4.0, 3.0, 2.0, 1.0, -4.3545, -4.4495, -4.676, -4.7984, -5.0696, -5.3951, -5.5737, -5.5412, -5.5246, -5.594, -5.8134, -5.7501, -5.8381, -5.8628, -5.9354, -6.0408, -5.936, -6.1007, -6.1011, -6.162, -6.2283, -6.2626, -6.1973, -6.2648, -6.377, -6.4582, -6.418, -6.4188, -4.867, -6.5036, -6.4616, -3.1331, -5.1822, -5.7078, -5.2458, -4.8576, -4.7432, -4.6244, -5.017, -5.1838, -4.1295, -4.0766, -5.258, -4.3617, -4.5707, -5.1137, -3.5578, -4.7017, -5.0549, -4.9944, -3.6557, -5.1692, -4.9352, -5.3529, -5.3923, -3.7274, -5.2606, -5.616, -5.5394, -5.6371, -5.617, -5.6795, -5.6798, -5.5607, -5.8959, -5.7066, -5.9518, -5.8719, -5.847, -6.0394, -5.8986, -6.0104, -6.0713, -5.9268, -6.0432, -6.1386, -5.0524, -6.1075, -6.2848, -6.3684, -6.289, -6.4122, -4.9247, -6.4127, -6.3709, -6.3711, -5.1941, -5.5197, -5.3222, -4.886, -3.0689, -5.7276, -4.9185, -3.1021, -3.9694, -5.6198, -4.7458, -4.8633, -5.0962, -4.2392, -4.9597, -5.3507, -5.0562, -5.2513, -5.1364, -5.2763, -4.9951, -5.4293, -5.4105, -5.541, -4.1653, -4.6266, -4.5595, -4.7251, -5.1854, -5.4537, -5.436, -5.8575, -5.9213, -5.8597, -5.9894, -6.0255, -6.1048, -6.0676, -6.1883, -6.2772, -6.2779, -6.2781, -6.3743, -6.3257, -6.3262, -6.2795, -6.3765, -6.5461, -6.6077, -6.6077, -6.5482, -6.61, -6.6791, -6.7493, -6.6805, -6.2782, -3.1854, -5.1747, -4.4452, -5.0757, -5.5632, -5.1354, -4.7544, -4.7433, -4.9461, -4.9342, -5.4983, -5.0219, -5.339, -4.6939, -5.2335, -5.3562, -4.585, -3.9551, -4.8316, -5.0633, -5.0864, -5.3166, -5.0395, -5.2318, -5.209, -4.3599, -4.6288, -5.6831, -5.4494, -5.738, -5.7408, -5.7142, -5.8913, -5.9961, -5.8633, -6.1131, -6.0371, -6.1164, -6.117, -5.904, -6.2935, -6.2026, -6.2475, -6.2038, -6.2953, -3.8053, -6.3471, -6.3477, -6.2078, -6.4006, -6.455, -6.3018, -6.4024, -6.403, -6.5162, -4.1866, -5.3331, -5.7126, -5.0958, -5.6594, -4.5997, -4.4901, -5.9606, -2.8046, -4.9316, -5.5814, -4.9556, -5.3245, -5.413, -4.4482, -4.0157, -5.6078, -5.169, -5.0487, -4.9783, -5.2724, -4.6155, -4.946, -5.0124, -5.4279, -5.4259, -5.4632, -5.4897, -5.4908, -5.4147, -5.5775, -4.4714, -5.15, -5.3071, -5.4641, -5.4104, -5.4107, -5.4114, -5.7986, -5.799, -5.8402, -5.8403, -5.9268, -5.9717, -6.0203, -6.1241, -6.1242, -6.1804, -6.181, -6.1812, -6.2396, -6.1825, -6.2402, -6.2416, -6.185, -6.303, -6.372, -6.373, -6.3738, -6.4457, -6.4459, -6.3773, -5.0517, -5.1306, -4.8678, -5.2147, -4.5818, -4.5821, -4.9322, -5.4943, -5.5529, -4.5354, -4.9973, -5.0329, -5.2595, -5.4077, -4.8817, -5.1312, -5.1714, -4.2538, -5.3818, -4.9208, -5.0881, -5.3796, -5.4593, -5.2336, -5.3091], \"loglift\": [30.0, 29.0, 28.0, 27.0, 26.0, 25.0, 24.0, 23.0, 22.0, 21.0, 20.0, 19.0, 18.0, 17.0, 16.0, 15.0, 14.0, 13.0, 12.0, 11.0, 10.0, 9.0, 8.0, 7.0, 6.0, 5.0, 4.0, 3.0, 2.0, 1.0, 1.3187, 1.317, 1.3152, 1.315, 1.3129, 1.3114, 1.3094, 1.3075, 1.3073, 1.307, 1.3064, 1.3052, 1.3043, 1.3027, 1.3025, 1.3024, 1.302, 1.2999, 1.2996, 1.2993, 1.2977, 1.2973, 1.296, 1.2952, 1.2925, 1.2914, 1.2909, 1.2901, 1.2899, 1.2887, 1.2883, 1.2544, 1.2698, 1.2699, 1.2537, 1.1573, 1.1308, 1.102, 1.1494, 1.1666, 0.9946, 0.9829, 1.1396, 0.9541, 0.9724, 1.0574, 0.5702, 0.9173, 0.9519, 0.9198, -0.0979, 0.7164, 0.3039, 0.717, 0.4345, 1.446, 1.4373, 1.4328, 1.4324, 1.4318, 1.4317, 1.4311, 1.4308, 1.4299, 1.4275, 1.4258, 1.4256, 1.4255, 1.4253, 1.4252, 1.4249, 1.4243, 1.4241, 1.4235, 1.4216, 1.4214, 1.4203, 1.4197, 1.4184, 1.415, 1.4144, 1.4138, 1.4137, 1.4133, 1.4126, 1.4125, 1.363, 1.3504, 1.3207, 1.2694, 1.0543, 1.3259, 1.1625, 0.4557, 0.709, 1.1662, 0.6237, 0.5732, 0.7307, -0.1112, 0.1644, 0.6852, 0.2596, 0.3434, 0.0813, 0.3426, -0.4733, 0.5454, 0.1326, 0.4307, 1.6692, 1.6689, 1.6662, 1.6647, 1.6606, 1.6593, 1.6568, 1.6507, 1.6494, 1.6484, 1.648, 1.6469, 1.6416, 1.6409, 1.638, 1.6362, 1.6354, 1.6353, 1.6342, 1.6341, 1.6337, 1.6336, 1.632, 1.6249, 1.6239, 1.6239, 1.6226, 1.6216, 1.617, 1.6157, 1.6153, 1.5933, 1.3364, 1.496, 1.3694, 1.4336, 1.4515, 1.3297, 1.2174, 1.1789, 1.2277, 1.2008, 1.3786, 1.2159, 1.2958, 1.0032, 1.1563, 1.1762, 0.6541, 0.1682, 0.7632, 0.8022, 0.8086, 0.8389, -0.361, -0.0141, -0.1494, 1.6898, 1.6873, 1.6775, 1.6775, 1.6767, 1.6737, 1.6731, 1.6729, 1.6698, 1.6691, 1.6662, 1.6651, 1.6628, 1.6623, 1.6603, 1.66, 1.66, 1.6595, 1.6586, 1.6582, 1.6559, 1.655, 1.6547, 1.6545, 1.653, 1.6526, 1.6514, 1.6511, 1.6504, 1.6485, 1.5932, 1.6181, 1.62, 1.5784, 1.5617, 1.3607, 1.3097, 1.5777, 0.7533, 1.2929, 1.4598, 1.1425, 1.2415, 1.2709, 0.7696, 0.1124, 1.2751, 0.9186, 0.8168, 0.7188, 0.8747, 0.0629, 0.2931, 0.3572, 0.7316, 0.7091, 0.5726, 0.5846, 0.5791, -1.0271, -0.141, 2.0266, 2.0198, 2.0166, 2.0134, 2.0131, 2.0128, 2.012, 2.0036, 2.0031, 2.001, 2.0009, 1.9976, 1.997, 1.9947, 1.9908, 1.9905, 1.9881, 1.9875, 1.9873, 1.986, 1.9859, 1.9854, 1.984, 1.9833, 1.983, 1.9782, 1.9771, 1.9761, 1.973, 1.9729, 1.9725, 1.8642, 1.758, 1.642, 1.7101, 1.4481, 1.3926, 1.4375, 1.6355, 1.6499, 0.9011, 1.1622, 1.1226, 1.2616, 1.3596, 0.713, 0.9669, 1.0024, -0.1258, 1.0542, -0.3989, -0.0285, 0.5809, 0.6217, -0.5551, -1.1859]}, \"token.table\": {\"Topic\": [3, 5, 3, 4, 5, 2, 3, 3, 1, 2, 4, 5, 2, 3, 4, 5, 2, 4, 2, 2, 3, 5, 2, 5, 1, 4, 4, 5, 4, 1, 2, 4, 4, 5, 5, 1, 2, 1, 3, 1, 3, 4, 1, 2, 3, 4, 5, 1, 2, 5, 4, 1, 2, 3, 5, 4, 4, 3, 3, 3, 5, 1, 3, 4, 5, 1, 2, 3, 4, 5, 3, 1, 3, 4, 2, 3, 2, 5, 1, 4, 2, 5, 1, 2, 5, 2, 1, 3, 2, 1, 4, 2, 3, 4, 3, 4, 2, 2, 3, 5, 2, 4, 5, 4, 3, 3, 1, 2, 5, 2, 3, 5, 2, 3, 5, 4, 1, 3, 1, 5, 1, 3, 3, 4, 1, 3, 4, 5, 2, 2, 4, 5, 1, 2, 3, 4, 5, 1, 4, 5, 1, 2, 3, 4, 5, 1, 1, 2, 4, 1, 2, 4, 5, 1, 2, 4, 3, 3, 1, 2, 3, 4, 5, 1, 5, 1, 2, 3, 5, 1, 5, 5, 4, 4, 4, 3, 2, 4, 2, 1, 2, 3, 4, 2, 4, 5, 1, 1, 2, 3, 4, 1, 3, 4, 2, 5, 1, 3, 4, 5, 3, 4, 5, 4, 5, 5, 3, 5, 2, 3, 5, 5, 1, 4, 2, 3, 5, 2, 3, 4, 5, 1, 4, 2, 3, 1, 2, 3, 1, 5, 5, 1, 5, 3, 1, 2, 5, 4, 4, 1, 4, 4, 2, 4, 5, 3, 3, 3, 1, 2, 4, 4, 1, 1, 1, 4, 5, 3, 1, 2, 3, 4, 5, 1, 4, 1, 2, 5, 2, 4, 4, 3, 3, 3, 4, 3, 1, 2, 3, 4, 5, 4, 1, 4, 2, 2, 1, 4, 2, 5, 1, 2, 5, 5, 2, 3, 3, 1, 3, 5, 2, 2, 1, 5, 1, 5, 1, 2, 1, 5, 5, 5, 2, 5, 1, 2, 4, 2, 1, 2, 3, 2, 4, 5, 1, 5, 5, 4, 1, 2, 4, 5, 1, 2, 3, 5, 2, 3, 4, 2, 4, 2, 2, 3, 4, 5, 3, 2, 3, 1, 3, 2, 1, 3, 3, 5, 3, 5, 1, 3, 1, 2, 3, 4, 1, 4, 1, 2, 2, 3, 4, 5, 1, 3, 4, 1, 2, 3, 5, 2, 5, 2, 1, 3, 4, 2, 5, 1, 3, 2, 4, 5, 5, 4, 1, 1, 3, 5, 2, 3, 5, 1, 4, 1, 4, 5, 4, 5, 2, 1, 5, 3, 4, 5], \"Freq\": [0.6413189830229498, 0.35519205213578753, 0.2042432247575827, 0.37930884597836784, 0.41821231736076453, 0.3627637186721343, 0.6287904456983661, 0.9842785700124721, 0.18683166501999168, 0.08303629556444074, 0.6642903645155259, 0.06227722167333056, 0.08930822529130097, 0.26792467587390295, 0.12503151540782137, 0.5001260616312855, 0.9711858750663767, 0.01330391609679968, 0.9598498637899424, 0.7460929772374019, 0.16377650719845407, 0.07278955875486848, 0.9777755598670542, 0.9551439857582826, 0.9325892868149788, 0.0661410841712751, 0.7750642550385903, 0.2113811604650701, 0.9358665982724349, 0.3286351057006057, 0.016431755285030287, 0.6572702114012114, 0.8881716728194345, 0.077232319375603, 0.9883889821618388, 0.9864317747075002, 0.9766475895072578, 0.9945326891137111, 0.9268425615395463, 0.004838211383357903, 0.038705691066863224, 0.9579658539048648, 0.47068697935307763, 0.2104697875156038, 0.0012755744697915382, 0.20409191516664613, 0.11480170228123844, 0.7183453106857068, 0.27628665795604107, 0.0034535832244505134, 0.9511901449495337, 0.042367072768311115, 0.35305893973592595, 0.6072613763457927, 0.9212873919651305, 0.935541754370522, 0.9613384587016433, 0.9806013802223451, 0.9270049048960766, 0.9872894371681482, 0.9811365771995991, 0.17292624110376734, 0.220961308077036, 0.441922616154072, 0.17292624110376734, 0.9767801077628573, 0.12593922863403736, 0.43594348373320624, 0.038750531887396106, 0.3971929518458101, 0.9269285467381689, 0.1667239864569841, 0.41318553165426497, 0.41318553165426497, 0.9119318371023865, 0.07237554262717352, 0.27179584279417357, 0.710850665769377, 0.9479270740693799, 0.04408963135206419, 0.7463417698397155, 0.24278587693581102, 0.9617329687149493, 0.9865702969246863, 0.921351413739249, 0.9976705322367766, 0.9512554995682109, 0.03909269176307716, 0.9901164146219507, 0.9458770571107548, 0.9391555278314165, 0.1603905537142303, 0.1804393729285091, 0.6616110340712, 0.9785469401382352, 0.9824648609626696, 0.982534754310044, 0.3317615314408783, 0.39811383772905395, 0.2654092251527026, 0.21361138924546907, 0.2307003003851066, 0.5553896120382197, 0.9827113699717177, 0.9551860551527955, 0.945071293222166, 0.8261184322709794, 0.12428330396997035, 0.043864695518813064, 0.23765034645008115, 0.6997482423252389, 0.05281118810001803, 0.8330837734862335, 0.15499232995092715, 0.950139162766466, 0.9826887273389211, 0.9757374334129038, 0.9059906877484686, 0.6155772182107668, 0.3719112360023383, 0.9938700504097949, 0.9549305841735172, 0.9908495880545433, 0.9896856024801736, 0.2624893244608352, 0.0905135601589087, 0.46161915681043436, 0.19007847633370825, 0.9747489544028533, 0.9819225061985132, 0.24196419582863604, 0.7460562704716278, 0.17864513672597462, 0.23223867774376702, 0.12505159570818225, 0.3304935029430531, 0.13398385254448097, 0.986564948383953, 0.30797377403769705, 0.6672765104150103, 0.04538688450470495, 0.14561625445259505, 0.7110611905737109, 0.009455600938480198, 0.08699152863401781, 0.9540167047266698, 0.7036360465129899, 0.267801778896735, 0.026255076362425, 0.24087982249663195, 0.3699740986250664, 0.38800402545864665, 0.9409229932307338, 0.6902631610192657, 0.3053891560873115, 0.004183413097086459, 0.9418345253806155, 0.9270173408032482, 0.3603339479488216, 0.015498234320379426, 0.3603339479488216, 0.24409719054597595, 0.019372792900474282, 0.979952190338594, 0.9428003035350551, 0.2762512070406682, 0.3061162023964161, 0.4181099349804708, 0.9621236300571131, 0.9915930767446218, 0.9622058807539844, 0.9565030673556697, 0.9696758487605502, 0.9358717483397864, 0.9611818734981162, 0.9918071584384592, 0.09980628518587015, 0.8982565666728314, 0.9940217327844879, 0.2030629810690515, 0.4370268505616543, 0.09711707790258985, 0.26045034528421823, 0.9869364950183878, 0.8787134613296905, 0.09763482903663227, 0.9826403224230058, 0.1547103201841986, 0.46413096055259584, 0.060165124516077244, 0.3266106759444193, 0.5473217567858554, 0.24407591856666525, 0.20709471878383717, 0.9564747691151866, 0.9658572470648795, 0.8268564624132143, 0.0493645649201919, 0.07404684738028786, 0.03702342369014393, 0.6311024101957323, 0.27347771108481733, 0.09466536152935985, 0.9724849816566684, 0.9426480679281565, 0.9639753515269109, 0.013644593194674377, 0.9824107100165551, 0.9684503410693313, 0.9854854061012018, 0.9425179987509041, 0.931329668525226, 0.9722997847045748, 0.969550917829331, 0.3120446312648704, 0.13201888245821441, 0.5520789630070785, 0.03675215757203301, 0.5084048464131233, 0.37364693531566895, 0.07350431514406602, 0.9700711148929724, 0.02910213344678917, 0.8798703599099945, 0.09512111999026968, 0.0920649577148084, 0.2915390327635599, 0.606094304955822, 0.9653199261752028, 0.9409103436099356, 0.9427385151964891, 0.14506215653784185, 0.8289266087876678, 0.961304573018704, 0.09462735890245516, 0.8831886830895815, 0.031542452967485056, 0.9596678856762372, 0.9553224544101726, 0.06439961412577622, 0.9230611358027925, 0.9826185983365867, 0.08232310087151176, 0.5762617061005824, 0.3384394146939928, 0.9892981613171575, 0.9741689863417097, 0.9552278158824675, 0.9686360811215183, 0.9711731315045165, 0.9894684107451127, 0.9552649644964547, 0.9722593787080323, 0.9758432424262398, 0.8501157627567735, 0.06733590200053652, 0.07575288975060358, 0.9917234440647661, 0.12385965343307573, 0.4777443775275778, 0.13049499200984765, 0.19463659825197616, 0.07520050387008169, 0.929182485851784, 0.054657793285399055, 0.9617539501391288, 0.9863540232915493, 0.9562511700518845, 0.3651116358216522, 0.6279920136132418, 0.9699036120531396, 0.9417506434301852, 0.9572519110589734, 0.8005716988068264, 0.18298781687013174, 0.9269353229841595, 0.08722997258615935, 0.25410470275098596, 0.1858377676835569, 0.39443118038959013, 0.07964475757866724, 0.9609815834207782, 0.842256093456751, 0.15669880808497694, 0.9656509325203262, 0.954723307838337, 0.9908080044292641, 0.9491116308110871, 0.9654409508128955, 0.023263637368985433, 0.6697118915667383, 0.1978694225083545, 0.12937616087084716, 0.9552159180012734, 0.9105376968629204, 0.07917719103155829, 0.9709557568486373, 0.2448948353839587, 0.5877476049215009, 0.14693690123037523, 0.9867415119001753, 0.9819271915779016, 0.31757426303068154, 0.6765712560218867, 0.859403758594602, 0.1412718507278798, 0.6684454999567905, 0.3285579576058801, 0.9927646552558517, 0.9563862022270566, 0.9213120487734446, 0.93138052737435, 0.9617900735766209, 0.9329891654847821, 0.984917682887383, 0.978260173373703, 0.96519592881076, 0.9655583605625981, 0.6929695412785215, 0.2003767348275243, 0.10853739803157567, 0.40423756550668966, 0.06467801048107034, 0.5255088351586966, 0.9846611651429652, 0.9787454235516924, 0.9658127401254981, 0.9907073134739252, 0.542462685278822, 0.07114264724968158, 0.3290347435297773, 0.05335698543726119, 0.4114579164404864, 0.4881704093361703, 0.09763408186723406, 0.006973862990516719, 0.06486566700838085, 0.8270372543568559, 0.08108208376047607, 0.06287084980375901, 0.9116273221545056, 0.9869953163235563, 0.055196231575192996, 0.7865462999465002, 0.04139717368139475, 0.11039246315038599, 0.9551185460319376, 0.31287932449006334, 0.6883345138781394, 0.987590019029786, 0.9062684008628441, 0.9939890556562172, 0.9543434066690337, 0.944901556685996, 0.9741211968695288, 0.9640045085156062, 0.9160139691329376, 0.053883174654878685, 0.9909397822099187, 0.9509393510720311, 0.19930418810988318, 0.05979125643296495, 0.7374254960065677, 0.9628691755371248, 0.991386603667316, 0.9827136881750776, 0.9882467465108167, 0.9831670833444511, 0.41539182597274343, 0.10384795649318586, 0.16049229639855997, 0.32098459279711994, 0.8010825147389333, 0.19553982643233805, 0.9934775494423352, 0.0647418904005573, 0.6740773294646261, 0.22088409666072492, 0.03935291377288777, 0.9687144547279023, 0.9638115163090052, 0.9782034782925416, 0.99174651203222, 0.6168954466256132, 0.37013726797536795, 0.3036884705579434, 0.6625930266718766, 0.9841061063052183, 0.9714474917510667, 0.9860959263924399, 0.9896420607628371, 0.9565815580985018, 0.9427553508247041, 0.9695388637835077, 0.9598624383042667, 0.7123087113021238, 0.1618883434777554, 0.12627290791264922, 0.26528350484463203, 0.27924579457329685, 0.46075556104593984, 0.3190075316006372, 0.678739428937526, 0.04782351304333008, 0.7093821101427294, 0.2311469797094287, 0.8716592826804292, 0.11247216550715217, 0.9563105197346158, 0.7674904288389376, 0.2263112802986611, 0.7370785152422015, 0.11710593232820024, 0.14466026934660028], \"Term\": [\"academic\", \"academic\", \"acceptance\", \"acceptance\", \"acceptance\", \"activity\", \"activity\", \"actual_system\", \"adoption\", \"adoption\", \"adoption\", \"adoption\", \"aied\", \"aied\", \"aied\", \"aied\", \"analysis\", \"analysis\", \"analyze\", \"art\", \"art\", \"art\", \"artistic\", \"ask\", \"assessment\", \"assessment\", \"attitude\", \"attitude\", \"attitude_subjective_norm\", \"bard\", \"bard\", \"bard\", \"behaviour\", \"behaviour\", \"belief\", \"benchmark\", \"big\", \"case\", \"caution\", \"chatbot\", \"chatbot\", \"chatbot\", \"chatgpt\", \"chatgpt\", \"chatgpt\", \"chatgpt\", \"chatgpt\", \"citation\", \"citation\", \"citation\", \"clinical\", \"cluster\", \"cluster\", \"cluster\", \"common\", \"compare\", \"completion\", \"comprehension\", \"computer\", \"concept\", \"confidence\", \"construct\", \"construct\", \"construct\", \"construct\", \"correct\", \"correlation\", \"correlation\", \"correlation\", \"correlation\", \"correlation_self_efficacy\", \"course\", \"course\", \"course\", \"creative\", \"creative\", \"creativity\", \"creativity\", \"criterion\", \"criterion\", \"critical_thinking\", \"critical_thinking\", \"cultivate\", \"cultural_dimension\", \"degree\", \"design\", \"detection\", \"detection\", \"digital\", \"discipline\", \"discriminant_validity\", \"distance\", \"distance\", \"distance\", \"distinguish\", \"dv_psepq\", \"educational\", \"educator\", \"educator\", \"educator\", \"effect\", \"effect\", \"effect\", \"effort\", \"elementary\", \"email_interview\", \"engineering\", \"engineering\", \"engineering\", \"english\", \"english\", \"english\", \"english_language\", \"english_language\", \"enhancement\", \"enjoyment\", \"entrepreneurial\", \"error\", \"ethical\", \"ethical\", \"evaluation\", \"even\", \"explanation\", \"factor\", \"faculty\", \"faculty\", \"faculty\", \"faculty\", \"fashion\", \"fashion_textile_design\", \"feel\", \"feel\", \"fig\", \"fig\", \"fig\", \"fig\", \"fig\", \"final_grade\", \"frequency\", \"frequency\", \"gai\", \"gai\", \"gai\", \"gai\", \"gai\", \"gemini\", \"gen\", \"gen\", \"gen\", \"genai\", \"genai\", \"genai\", \"gender\", \"generative_artificial_intelligence\", \"generative_artificial_intelligence\", \"generative_artificial_intelligence\", \"google\", \"gpa\", \"gpt\", \"gpt\", \"gpt\", \"gpt\", \"gpt\", \"grade\", \"grammar\", \"group\", \"group\", \"group\", \"guidance\", \"guideline\", \"hcai\", \"higher\", \"historian\", \"history\", \"hoc\", \"human\", \"id\", \"id\", \"ilte\", \"image\", \"image\", \"image\", \"image\", \"important\", \"indicator\", \"indicator\", \"institution\", \"instructional\", \"instructional\", \"instructional\", \"instructional\", \"instructor\", \"instructor\", \"instructor\", \"integrate\", \"integration\", \"integrity\", \"integrity\", \"integrity\", \"integrity\", \"intention\", \"intention\", \"intention\", \"interaction\", \"interested\", \"interviewee\", \"ipe\", \"ipe\", \"iran\", \"iteration\", \"know\", \"label\", \"laboratory\", \"landscape_architecture\", \"learner\", \"learner\", \"learner\", \"lecturer\", \"lecturer\", \"lecturer\", \"lecturer\", \"legal\", \"legal\", \"lesson_plan\", \"lesson_plan\", \"literacy\", \"literacy\", \"literacy\", \"log_sheet\", \"machine\", \"majority\", \"management\", \"management\", \"many\", \"matrix\", \"matrix\", \"matrix\", \"measure\", \"measurement\", \"medical\", \"medical\", \"moderate_effect\", \"motivation\", \"motivation\", \"motivation\", \"move\", \"multimedia\", \"network\", \"numerical\", \"objective\", \"oman\", \"online_blended\", \"online_quiz\", \"outline\", \"output\", \"output\", \"output\", \"owlmentor\", \"participant\", \"participant\", \"participant\", \"participant\", \"participant\", \"pass\", \"pass\", \"pass_grade\", \"pck\", \"people\", \"perceive\", \"perceive\", \"perceive_behavioural_control\", \"perceive_helpfulness\", \"perceived_ease\", \"perceived_usefulness\", \"perceived_usefulness\", \"perceived_usefulness_intention\", \"perception\", \"perception\", \"perception\", \"perception\", \"perception\", \"perform\", \"performance\", \"performance\", \"personalize\", \"phase\", \"platform\", \"pls_sem\", \"podcast\", \"podcast\", \"policy\", \"policy\", \"policy\", \"positive\", \"post\", \"post\", \"predict_actual\", \"principle\", \"principle\", \"principle\", \"problem_solve\", \"program\", \"programming\", \"programming\", \"project\", \"project\", \"prompt\", \"prompt\", \"pupil\", \"purpose\", \"qualification\", \"ratio\", \"reaction\", \"readiness\", \"recommendation\", \"reddit\", \"ref\", \"relate_subreddit\", \"resource\", \"resource\", \"resource\", \"respondent\", \"respondent\", \"respondent\", \"response\", \"responsible\", \"responsible_innovation\", \"risk\", \"satisfaction\", \"satisfaction\", \"satisfaction\", \"satisfaction\", \"school\", \"school\", \"school\", \"school\", \"scientific\", \"scientific\", \"scientific\", \"sdg\", \"sdg\", \"self_confidence\", \"self_efficacy\", \"self_efficacy\", \"self_efficacy\", \"self_efficacy\", \"sequence_selection_iteration\", \"session\", \"session\", \"skill\", \"social_constructivist\", \"soft_skill\", \"software\", \"sound\", \"source\", \"sr\", \"steam\", \"steam\", \"strategy\", \"structure\", \"struggle\", \"struggle\", \"struggle\", \"sub_category\", \"subject\", \"subjective_norm\", \"submission\", \"subreddit\", \"survey\", \"survey\", \"survey\", \"survey\", \"system\", \"system\", \"task\", \"teacher\", \"teacher\", \"teacher\", \"teacher\", \"test\", \"text\", \"textile\", \"th_grade_pupil\", \"theory\", \"theory\", \"think\", \"think\", \"thinking\", \"tp\", \"tpack\", \"tpb\", \"transmissive\", \"tri\", \"trust_privacy\", \"undertake\", \"university\", \"university\", \"university\", \"usage\", \"usage\", \"usage\", \"user\", \"user\", \"variable\", \"variable\", \"variable\", \"voice\", \"voice\", \"volume\", \"write\", \"write\", \"writing\", \"writing\", \"writing\"]}, \"R\": 30, \"lambda.step\": 0.01, \"plot.opts\": {\"xlab\": \"PC1\", \"ylab\": \"PC2\"}, \"topic.order\": [2, 5, 3, 4, 1]};\n",
       "\n",
       "function LDAvis_load_lib(url, callback){\n",
       "  var s = document.createElement('script');\n",
       "  s.src = url;\n",
       "  s.async = true;\n",
       "  s.onreadystatechange = s.onload = callback;\n",
       "  s.onerror = function(){console.warn(\"failed to load library \" + url);};\n",
       "  document.getElementsByTagName(\"head\")[0].appendChild(s);\n",
       "}\n",
       "\n",
       "if(typeof(LDAvis) !== \"undefined\"){\n",
       "   // already loaded: just create the visualization\n",
       "   !function(LDAvis){\n",
       "       new LDAvis(\"#\" + \"ldavis_el1382015253258785922236960203\", ldavis_el1382015253258785922236960203_data);\n",
       "   }(LDAvis);\n",
       "}else if(typeof define === \"function\" && define.amd){\n",
       "   // require.js is available: use it to load d3/LDAvis\n",
       "   require.config({paths: {d3: \"https://d3js.org/d3.v5\"}});\n",
       "   require([\"d3\"], function(d3){\n",
       "      window.d3 = d3;\n",
       "      LDAvis_load_lib(\"https://cdn.jsdelivr.net/gh/bmabey/pyLDAvis@3.4.0/pyLDAvis/js/ldavis.v3.0.0.js\", function(){\n",
       "        new LDAvis(\"#\" + \"ldavis_el1382015253258785922236960203\", ldavis_el1382015253258785922236960203_data);\n",
       "      });\n",
       "    });\n",
       "}else{\n",
       "    // require.js not available: dynamically load d3 & LDAvis\n",
       "    LDAvis_load_lib(\"https://d3js.org/d3.v5.js\", function(){\n",
       "         LDAvis_load_lib(\"https://cdn.jsdelivr.net/gh/bmabey/pyLDAvis@3.4.0/pyLDAvis/js/ldavis.v3.0.0.js\", function(){\n",
       "                 new LDAvis(\"#\" + \"ldavis_el1382015253258785922236960203\", ldavis_el1382015253258785922236960203_data);\n",
       "            })\n",
       "         });\n",
       "}\n",
       "</script>"
      ],
      "text/plain": [
       "PreparedData(topic_coordinates=              x         y  topics  cluster       Freq\n",
       "topic                                                \n",
       "1      0.163892  0.194033       1        1  26.602860\n",
       "4     -0.010985 -0.226395       2        1  23.472097\n",
       "2     -0.233629 -0.076772       3        1  18.684119\n",
       "3     -0.118492  0.196459       4        1  18.264870\n",
       "0      0.199214 -0.087326       5        1  12.976054, topic_info=                   Term         Freq        Total Category  logprob  loglift\n",
       "4514              genai  1386.000000  1386.000000  Default  30.0000  30.0000\n",
       "150          assessment   604.000000   604.000000  Default  29.0000  29.0000\n",
       "1669            teacher   787.000000   787.000000  Default  28.0000  28.0000\n",
       "5560                gai   528.000000   528.000000  Default  27.0000  27.0000\n",
       "477              design   275.000000   275.000000  Default  26.0000  26.0000\n",
       "...                 ...          ...          ...      ...      ...      ...\n",
       "1763         university    38.949722   308.854850   Topic5  -5.0881  -0.0285\n",
       "1790           variable    29.101928   125.461298   Topic5  -5.3796   0.5809\n",
       "2056  critical_thinking    26.870467   111.209105   Topic5  -5.4593   0.6217\n",
       "1210        participant    33.675614   452.124630   Topic5  -5.2336  -0.5551\n",
       "1669            teacher    31.225101   787.743448   Topic5  -5.3091  -1.1859\n",
       "\n",
       "[314 rows x 6 columns], token_table=      Topic      Freq        Term\n",
       "term                             \n",
       "6         3  0.641319    academic\n",
       "6         5  0.355192    academic\n",
       "10        3  0.204243  acceptance\n",
       "10        4  0.379309  acceptance\n",
       "10        5  0.418212  acceptance\n",
       "...     ...       ...         ...\n",
       "1833      1  0.767490       write\n",
       "1833      5  0.226311       write\n",
       "1834      3  0.737079     writing\n",
       "1834      4  0.117106     writing\n",
       "1834      5  0.144660     writing\n",
       "\n",
       "[414 rows x 3 columns], R=30, lambda_step=0.01, plot_opts={'xlab': 'PC1', 'ylab': 'PC2'}, topic_order=[2, 5, 3, 4, 1])"
      ]
     },
     "execution_count": 15,
     "metadata": {},
     "output_type": "execute_result"
    }
   ],
   "source": [
    "pyLDAvis.enable_notebook()\n",
    "vis = pyLDAvis.gensim.prepare(lda_model, corpus, id2word, mds=\"mmds\", R=30)\n",
    "vis"
   ]
  },
  {
   "cell_type": "code",
   "execution_count": 16,
   "metadata": {},
   "outputs": [
    {
     "name": "stdout",
     "output_type": "stream",
     "text": [
      "Challenges and Opportunities of Generative AI for Higher Education as Explained by ChatGPT\n"
     ]
    }
   ],
   "source": [
    "print(data[64][0:90])"
   ]
  },
  {
   "cell_type": "markdown",
   "metadata": {},
   "source": []
  },
  {
   "cell_type": "code",
   "execution_count": null,
   "metadata": {},
   "outputs": [],
   "source": []
  },
  {
   "cell_type": "code",
   "execution_count": null,
   "metadata": {},
   "outputs": [],
   "source": []
  },
  {
   "cell_type": "code",
   "execution_count": null,
   "metadata": {},
   "outputs": [],
   "source": []
  },
  {
   "cell_type": "code",
   "execution_count": null,
   "metadata": {},
   "outputs": [],
   "source": []
  },
  {
   "cell_type": "code",
   "execution_count": null,
   "metadata": {},
   "outputs": [],
   "source": []
  },
  {
   "cell_type": "code",
   "execution_count": null,
   "metadata": {},
   "outputs": [],
   "source": []
  },
  {
   "cell_type": "code",
   "execution_count": null,
   "metadata": {},
   "outputs": [],
   "source": []
  },
  {
   "cell_type": "code",
   "execution_count": null,
   "metadata": {},
   "outputs": [],
   "source": []
  },
  {
   "cell_type": "code",
   "execution_count": null,
   "metadata": {},
   "outputs": [],
   "source": []
  },
  {
   "cell_type": "code",
   "execution_count": null,
   "metadata": {},
   "outputs": [],
   "source": []
  },
  {
   "cell_type": "code",
   "execution_count": null,
   "metadata": {},
   "outputs": [],
   "source": []
  },
  {
   "cell_type": "code",
   "execution_count": null,
   "metadata": {},
   "outputs": [],
   "source": []
  },
  {
   "cell_type": "code",
   "execution_count": null,
   "metadata": {},
   "outputs": [],
   "source": []
  },
  {
   "cell_type": "code",
   "execution_count": null,
   "metadata": {},
   "outputs": [],
   "source": []
  }
 ],
 "metadata": {
  "kernelspec": {
   "display_name": "Python 3",
   "language": "python",
   "name": "python3"
  },
  "language_info": {
   "codemirror_mode": {
    "name": "ipython",
    "version": 3
   },
   "file_extension": ".py",
   "mimetype": "text/x-python",
   "name": "python",
   "nbconvert_exporter": "python",
   "pygments_lexer": "ipython3",
   "version": "3.11.9"
  }
 },
 "nbformat": 4,
 "nbformat_minor": 4
}
